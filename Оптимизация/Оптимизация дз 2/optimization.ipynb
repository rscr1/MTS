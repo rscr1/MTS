{
 "cells": [
  {
   "cell_type": "markdown",
   "metadata": {},
   "source": [
    "## №1"
   ]
  },
  {
   "cell_type": "code",
   "execution_count": 1,
   "metadata": {},
   "outputs": [],
   "source": [
    "import numpy as np\n",
    "from scipy.optimize import minimize"
   ]
  },
  {
   "cell_type": "code",
   "execution_count": 2,
   "metadata": {},
   "outputs": [],
   "source": [
    "def func_min(x): \n",
    "    return sum(i**2 for i in x)\n",
    "\n",
    "def func_max(x):\n",
    "    return -sum(i**2 for i in x) \n",
    "\n",
    "constraints = {\n",
    "    'type': 'eq', \n",
    "    'fun':lambda x: sum(i**4 for i in x) - 1\n",
    "}"
   ]
  },
  {
   "cell_type": "code",
   "execution_count": null,
   "metadata": {},
   "outputs": [],
   "source": [
    "n = 100\n",
    "start = np.zeros(n, dtype=float)\n",
    "result = minimize(func_min, start, method='trust-constr', constraints=constraints)\n"
   ]
  },
  {
   "cell_type": "code",
   "execution_count": 4,
   "metadata": {},
   "outputs": [
    {
     "name": "stdout",
     "output_type": "stream",
     "text": [
      "Минимум 0.0\n",
      "Аргумент [0. 0. 0. 0. 0. 0. 0. 0. 0. 0. 0. 0. 0. 0. 0. 0. 0. 0. 0. 0. 0. 0. 0. 0.\n",
      " 0. 0. 0. 0. 0. 0. 0. 0. 0. 0. 0. 0. 0. 0. 0. 0. 0. 0. 0. 0. 0. 0. 0. 0.\n",
      " 0. 0. 0. 0. 0. 0. 0. 0. 0. 0. 0. 0. 0. 0. 0. 0. 0. 0. 0. 0. 0. 0. 0. 0.\n",
      " 0. 0. 0. 0. 0. 0. 0. 0. 0. 0. 0. 0. 0. 0. 0. 0. 0. 0. 0. 0. 0. 0. 0. 0.\n",
      " 0. 0. 0. 0.]\n"
     ]
    }
   ],
   "source": [
    "print('Минимум', result.fun)\n",
    "print('Аргумент', result.x)"
   ]
  },
  {
   "cell_type": "code",
   "execution_count": null,
   "metadata": {},
   "outputs": [],
   "source": [
    "result = minimize(func_max, start, method='trust-constr', constraints=constraints)\n"
   ]
  },
  {
   "cell_type": "code",
   "execution_count": 6,
   "metadata": {},
   "outputs": [
    {
     "name": "stdout",
     "output_type": "stream",
     "text": [
      "Максимум -9.999999999999982\n",
      "Аргумент [0.31622777 0.31622777 0.31622777 0.31622775 0.31622775 0.31622775\n",
      " 0.31622777 0.31622775 0.31622777 0.31622776 0.31622776 0.31622776\n",
      " 0.31622777 0.31622777 0.31622775 0.31622776 0.31622776 0.31622776\n",
      " 0.31622776 0.31622776 0.31622776 0.31622776 0.31622777 0.31622777\n",
      " 0.31622777 0.31622777 0.31622777 0.31622777 0.31622777 0.31622777\n",
      " 0.31622777 0.31622777 0.31622776 0.31622776 0.31622776 0.31622776\n",
      " 0.31622777 0.31622777 0.31622778 0.31622778 0.31622777 0.31622777\n",
      " 0.31622775 0.31622778 0.31622775 0.31622776 0.31622776 0.31622776\n",
      " 0.31622776 0.31622777 0.31622777 0.31622778 0.31622777 0.31622778\n",
      " 0.31622777 0.31622777 0.31622777 0.31622778 0.31622778 0.31622778\n",
      " 0.31622776 0.31622778 0.31622776 0.31622776 0.31622778 0.31622777\n",
      " 0.31622778 0.31622777 0.31622777 0.31622777 0.31622777 0.31622777\n",
      " 0.31622777 0.31622776 0.31622776 0.31622776 0.31622778 0.31622776\n",
      " 0.31622776 0.31622775 0.31622777 0.31622776 0.31622775 0.31622777\n",
      " 0.31622779 0.31622776 0.31622778 0.31622776 0.31622777 0.31622777\n",
      " 0.31622778 0.31622775 0.31622776 0.31622775 0.31622776 0.31622776\n",
      " 0.31622777 0.31622776 0.31622774 0.31622777]\n"
     ]
    }
   ],
   "source": [
    "print('Максимум', result.fun)\n",
    "print('Аргумент', result.x)"
   ]
  },
  {
   "cell_type": "code",
   "execution_count": 7,
   "metadata": {},
   "outputs": [
    {
     "name": "stdout",
     "output_type": "stream",
     "text": [
      "10.0\n",
      "All right\n"
     ]
    }
   ],
   "source": [
    "print(np.sqrt(n))\n",
    "assert round(1 / n**(1/4), 4) == round(result.x[0], 4)\n",
    "print('All right')"
   ]
  },
  {
   "cell_type": "markdown",
   "metadata": {},
   "source": [
    "## №2"
   ]
  },
  {
   "cell_type": "code",
   "execution_count": 20,
   "metadata": {},
   "outputs": [],
   "source": [
    "import random as rn\n",
    "import numpy as np\n",
    "from numpy.random import choice as np_choice\n",
    "\n",
    "class AntColony(object):\n",
    "\n",
    "    def __init__(self, distances, n_ants, n_best, n_iterations, decay, alpha=1, beta=1):\n",
    "        \"\"\"\n",
    "        Args:\n",
    "            distances (2D numpy.array): Square matrix of distances. Diagonal is assumed to be np.inf.\n",
    "            n_ants (int): Number of ants running per iteration\n",
    "            n_best (int): Number of best ants who deposit pheromone\n",
    "            n_iteration (int): Number of iterations\n",
    "            decay (float): Rate it which pheromone decays. The pheromone value is multiplied by decay, so 0.95 will lead to decay, 0.5 to much faster decay.\n",
    "            alpha (int or float): exponenet on pheromone, higher alpha gives pheromone more weight. Default=1\n",
    "            beta (int or float): exponent on distance, higher beta give distance more weight. Default=1\n",
    "\n",
    "        Example:\n",
    "            ant_colony = AntColony(german_distances, 100, 20, 2000, 0.95, alpha=1, beta=2)          \n",
    "        \"\"\"\n",
    "        self.distances  = distances\n",
    "        self.pheromone = np.ones(self.distances.shape) / len(distances)\n",
    "        self.all_inds = range(len(distances))\n",
    "        self.n_ants = n_ants\n",
    "        self.n_best = n_best\n",
    "        self.n_iterations = n_iterations\n",
    "        self.decay = decay\n",
    "        self.alpha = alpha\n",
    "        self.beta = beta\n",
    "\n",
    "    def run(self):\n",
    "        shortest_path = None\n",
    "        all_time_shortest_path = (\"placeholder\", np.inf)\n",
    "        for i in range(self.n_iterations):\n",
    "            all_paths = self.gen_all_paths()\n",
    "            self.spread_pheronome(all_paths, self.n_best, shortest_path=shortest_path)\n",
    "            shortest_path = min(all_paths, key=lambda x: x[1])\n",
    "            if shortest_path[1] < all_time_shortest_path[1]:\n",
    "                all_time_shortest_path = shortest_path            \n",
    "            self.pheromone = self.pheromone * self.decay            \n",
    "        return all_time_shortest_path\n",
    "\n",
    "    def spread_pheronome(self, all_paths, n_best, shortest_path):\n",
    "        sorted_paths = sorted(all_paths, key=lambda x: x[1])\n",
    "        for path, dist in sorted_paths[:n_best]:\n",
    "            for move in path:\n",
    "                self.pheromone[move] += 1.0 / self.distances[move]\n",
    "\n",
    "    def gen_path_dist(self, path):\n",
    "        total_dist = 0\n",
    "        for ele in path:\n",
    "            total_dist += self.distances[ele]\n",
    "        return total_dist\n",
    "\n",
    "    def gen_all_paths(self):\n",
    "        all_paths = []\n",
    "        for i in range(self.n_ants):\n",
    "            path = self.gen_path(0)\n",
    "            all_paths.append((path, self.gen_path_dist(path)))\n",
    "        return all_paths\n",
    "\n",
    "    def gen_path(self, start):\n",
    "        path = []\n",
    "        visited = set()\n",
    "        visited.add(start)\n",
    "        prev = start\n",
    "        for i in range(len(self.distances) - 1):\n",
    "            move = self.pick_move(self.pheromone[prev], self.distances[prev], visited)\n",
    "            path.append((prev, move))\n",
    "            prev = move\n",
    "            visited.add(move)\n",
    "        path.append((prev, start))    \n",
    "        return path\n",
    "\n",
    "    def pick_move(self, pheromone, dist, visited):\n",
    "        pheromone = np.copy(pheromone)\n",
    "        pheromone[list(visited)] = 0\n",
    "\n",
    "        row = pheromone ** self.alpha * (( 1.0 / dist) ** self.beta)\n",
    "\n",
    "        norm_row = row / row.sum()\n",
    "        move = np_choice(self.all_inds, 1, p=norm_row)[0]\n",
    "        return move\n"
   ]
  },
  {
   "cell_type": "code",
   "execution_count": 21,
   "metadata": {},
   "outputs": [],
   "source": [
    "matrix = np.array([\n",
    "    [np.inf, 4, 5, 7, 5],\n",
    "    [8, np.inf, 5, 6, 6],\n",
    "    [3, 5, np.inf, 9, 6],\n",
    "    [3, 5, 6, np.inf, 2],\n",
    "    [6, 2, 3, 8, np.inf]\n",
    "])"
   ]
  },
  {
   "cell_type": "code",
   "execution_count": 24,
   "metadata": {},
   "outputs": [
    {
     "name": "stdout",
     "output_type": "stream",
     "text": [
      "Path: [(0, 1), (1, 3), (3, 4), (4, 2), (2, 0)]\n",
      "Cost: 18.0\n"
     ]
    }
   ],
   "source": [
    "ant_colony = AntColony(matrix, 100, 1, 100, 0.95, alpha=1, beta=1)\n",
    "shortest_path = ant_colony.run()\n",
    "print(f'Path: {shortest_path[0]}')\n",
    "print(f'Cost: {shortest_path[1]}')"
   ]
  },
  {
   "cell_type": "markdown",
   "metadata": {},
   "source": [
    "Как видим, пути совпадают!"
   ]
  },
  {
   "cell_type": "markdown",
   "metadata": {},
   "source": [
    "В муравьином алгоритме отстуствует начальное положение, поэтому проинтерпретируем количество эпох.\n",
    "\\\n",
    "Эпоха в муравьином алгоритме представляет собой один проход всеми муравьями через граф задачи.\n",
    "\\\n",
    "Увеличение числа эпох может повысить вероятность нахождения оптимального решения, так как муравьи имеют больше шансов исследовать пространство решений.\n",
    "\\\n",
    "Однако слишком большое количество эпох может привести к увеличению времени выполнения алгоритма."
   ]
  }
 ],
 "metadata": {
  "kernelspec": {
   "display_name": "venv",
   "language": "python",
   "name": "python3"
  },
  "language_info": {
   "codemirror_mode": {
    "name": "ipython",
    "version": 3
   },
   "file_extension": ".py",
   "mimetype": "text/x-python",
   "name": "python",
   "nbconvert_exporter": "python",
   "pygments_lexer": "ipython3",
   "version": "3.10.11"
  }
 },
 "nbformat": 4,
 "nbformat_minor": 2
}
