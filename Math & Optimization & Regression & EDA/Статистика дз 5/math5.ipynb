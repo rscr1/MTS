{
 "cells": [
  {
   "cell_type": "markdown",
   "metadata": {},
   "source": [
    "## Импортирование зависимостей"
   ]
  },
  {
   "cell_type": "code",
   "execution_count": 1,
   "metadata": {},
   "outputs": [
    {
     "name": "stderr",
     "output_type": "stream",
     "text": [
      "C:\\Users\\damir\\AppData\\Local\\Temp\\ipykernel_15160\\3901000916.py:1: DeprecationWarning: \n",
      "Pyarrow will become a required dependency of pandas in the next major release of pandas (pandas 3.0),\n",
      "(to allow more performant data types, such as the Arrow string type, and better interoperability with other libraries)\n",
      "but was not found to be installed on your system.\n",
      "If this would cause problems for you,\n",
      "please provide us feedback at https://github.com/pandas-dev/pandas/issues/54466\n",
      "        \n",
      "  import pandas as pd\n"
     ]
    }
   ],
   "source": [
    "import pandas as pd\n",
    "import seaborn as sns\n",
    "import matplotlib.pyplot as plt\n",
    "import scipy.stats as sts\n",
    "import numpy as np"
   ]
  },
  {
   "cell_type": "markdown",
   "metadata": {},
   "source": [
    "## Конфигурация графиков"
   ]
  },
  {
   "cell_type": "code",
   "execution_count": 2,
   "metadata": {},
   "outputs": [],
   "source": [
    "%matplotlib inline\n",
    "%config InlineBackend.figure_format = 'retina'\n",
    "\n",
    "plt.rcParams['figure.figsize'] = 10, 6\n",
    "plt.rcParams['font.size'] = 14"
   ]
  },
  {
   "cell_type": "markdown",
   "metadata": {},
   "source": [
    "## Загрузка и просмотр датасета "
   ]
  },
  {
   "cell_type": "code",
   "execution_count": 3,
   "metadata": {},
   "outputs": [],
   "source": [
    "path: str = r'data.csv'\n",
    "data = pd.read_csv(path, index_col='Customer ID')"
   ]
  },
  {
   "cell_type": "code",
   "execution_count": 4,
   "metadata": {},
   "outputs": [
    {
     "data": {
      "text/html": [
       "<div>\n",
       "<style scoped>\n",
       "    .dataframe tbody tr th:only-of-type {\n",
       "        vertical-align: middle;\n",
       "    }\n",
       "\n",
       "    .dataframe tbody tr th {\n",
       "        vertical-align: top;\n",
       "    }\n",
       "\n",
       "    .dataframe thead th {\n",
       "        text-align: right;\n",
       "    }\n",
       "</style>\n",
       "<table border=\"1\" class=\"dataframe\">\n",
       "  <thead>\n",
       "    <tr style=\"text-align: right;\">\n",
       "      <th></th>\n",
       "      <th>Gender</th>\n",
       "      <th>Age</th>\n",
       "      <th>City</th>\n",
       "      <th>Membership Type</th>\n",
       "      <th>Total Spend</th>\n",
       "      <th>Items Purchased</th>\n",
       "      <th>Average Rating</th>\n",
       "      <th>Discount Applied</th>\n",
       "      <th>Days Since Last Purchase</th>\n",
       "      <th>Satisfaction Level</th>\n",
       "    </tr>\n",
       "    <tr>\n",
       "      <th>Customer ID</th>\n",
       "      <th></th>\n",
       "      <th></th>\n",
       "      <th></th>\n",
       "      <th></th>\n",
       "      <th></th>\n",
       "      <th></th>\n",
       "      <th></th>\n",
       "      <th></th>\n",
       "      <th></th>\n",
       "      <th></th>\n",
       "    </tr>\n",
       "  </thead>\n",
       "  <tbody>\n",
       "    <tr>\n",
       "      <th>101</th>\n",
       "      <td>Female</td>\n",
       "      <td>29</td>\n",
       "      <td>New York</td>\n",
       "      <td>Gold</td>\n",
       "      <td>1120.20</td>\n",
       "      <td>14</td>\n",
       "      <td>4.6</td>\n",
       "      <td>True</td>\n",
       "      <td>25</td>\n",
       "      <td>Satisfied</td>\n",
       "    </tr>\n",
       "    <tr>\n",
       "      <th>102</th>\n",
       "      <td>Male</td>\n",
       "      <td>34</td>\n",
       "      <td>Los Angeles</td>\n",
       "      <td>Silver</td>\n",
       "      <td>780.50</td>\n",
       "      <td>11</td>\n",
       "      <td>4.1</td>\n",
       "      <td>False</td>\n",
       "      <td>18</td>\n",
       "      <td>Neutral</td>\n",
       "    </tr>\n",
       "    <tr>\n",
       "      <th>103</th>\n",
       "      <td>Female</td>\n",
       "      <td>43</td>\n",
       "      <td>Chicago</td>\n",
       "      <td>Bronze</td>\n",
       "      <td>510.75</td>\n",
       "      <td>9</td>\n",
       "      <td>3.4</td>\n",
       "      <td>True</td>\n",
       "      <td>42</td>\n",
       "      <td>Unsatisfied</td>\n",
       "    </tr>\n",
       "    <tr>\n",
       "      <th>104</th>\n",
       "      <td>Male</td>\n",
       "      <td>30</td>\n",
       "      <td>San Francisco</td>\n",
       "      <td>Gold</td>\n",
       "      <td>1480.30</td>\n",
       "      <td>19</td>\n",
       "      <td>4.7</td>\n",
       "      <td>False</td>\n",
       "      <td>12</td>\n",
       "      <td>Satisfied</td>\n",
       "    </tr>\n",
       "    <tr>\n",
       "      <th>105</th>\n",
       "      <td>Male</td>\n",
       "      <td>27</td>\n",
       "      <td>Miami</td>\n",
       "      <td>Silver</td>\n",
       "      <td>720.40</td>\n",
       "      <td>13</td>\n",
       "      <td>4.0</td>\n",
       "      <td>True</td>\n",
       "      <td>55</td>\n",
       "      <td>Unsatisfied</td>\n",
       "    </tr>\n",
       "  </tbody>\n",
       "</table>\n",
       "</div>"
      ],
      "text/plain": [
       "             Gender  Age           City Membership Type  Total Spend  \\\n",
       "Customer ID                                                            \n",
       "101          Female   29       New York            Gold      1120.20   \n",
       "102            Male   34    Los Angeles          Silver       780.50   \n",
       "103          Female   43        Chicago          Bronze       510.75   \n",
       "104            Male   30  San Francisco            Gold      1480.30   \n",
       "105            Male   27          Miami          Silver       720.40   \n",
       "\n",
       "             Items Purchased  Average Rating  Discount Applied  \\\n",
       "Customer ID                                                      \n",
       "101                       14             4.6              True   \n",
       "102                       11             4.1             False   \n",
       "103                        9             3.4              True   \n",
       "104                       19             4.7             False   \n",
       "105                       13             4.0              True   \n",
       "\n",
       "             Days Since Last Purchase Satisfaction Level  \n",
       "Customer ID                                               \n",
       "101                                25          Satisfied  \n",
       "102                                18            Neutral  \n",
       "103                                42        Unsatisfied  \n",
       "104                                12          Satisfied  \n",
       "105                                55        Unsatisfied  "
      ]
     },
     "execution_count": 4,
     "metadata": {},
     "output_type": "execute_result"
    }
   ],
   "source": [
    "data.head()"
   ]
  },
  {
   "cell_type": "code",
   "execution_count": 5,
   "metadata": {},
   "outputs": [],
   "source": [
    "data = data[~data['Satisfaction Level'].isna()]"
   ]
  },
  {
   "cell_type": "markdown",
   "metadata": {},
   "source": [
    "## Рассмотрим гипотезы:\n",
    "$H_0$ - не существует различия между событиями\n",
    "\\\n",
    "$H_1$ - существует различие между событиями"
   ]
  },
  {
   "cell_type": "code",
   "execution_count": 6,
   "metadata": {},
   "outputs": [],
   "source": [
    "cond = data.Gender == 'Male'\n",
    "male = data[cond]\n",
    "female = data[~cond]"
   ]
  },
  {
   "cell_type": "code",
   "execution_count": 7,
   "metadata": {},
   "outputs": [],
   "source": [
    "def test(male: pd.DataFrame, female: pd.DataFrame, feature: str, md: str) -> None:\n",
    "    a = .05\n",
    "\n",
    "    if  md == 'm':\n",
    "        _, p_value = sts.mannwhitneyu(male[feature], female[feature])\n",
    "    elif md == 'd':\n",
    "        _, p_value = sts.ks_2samp(male[feature], female[feature])\n",
    "    else:\n",
    "        print('Wrong input!')\n",
    "        return None\n",
    "    \n",
    "    print(f'{p_value=}')\n",
    "    \n",
    "    if p_value > a:\n",
    "        print(\"Не существует различия между событиями\")\n",
    "    else:\n",
    "        print(\"Существует различие между событиями\")"
   ]
  },
  {
   "cell_type": "markdown",
   "metadata": {},
   "source": [
    "## Пункт №1 (Непрерывный случай, оценка медианы)"
   ]
  },
  {
   "cell_type": "code",
   "execution_count": 8,
   "metadata": {},
   "outputs": [
    {
     "data": {
      "text/plain": [
       "(800.9, 505.75)"
      ]
     },
     "execution_count": 8,
     "metadata": {},
     "output_type": "execute_result"
    }
   ],
   "source": [
    "male['Total Spend'].median(), female['Total Spend'].median()"
   ]
  },
  {
   "cell_type": "code",
   "execution_count": 9,
   "metadata": {},
   "outputs": [
    {
     "name": "stdout",
     "output_type": "stream",
     "text": [
      "p_value=5.424545127316686e-19\n",
      "Существует различие между событиями\n"
     ]
    }
   ],
   "source": [
    "test(male, female, 'Total Spend', 'm')"
   ]
  },
  {
   "cell_type": "markdown",
   "metadata": {},
   "source": [
    "## Пункт №2 (Непрерывный случай, оценка распределения)"
   ]
  },
  {
   "cell_type": "code",
   "execution_count": 10,
   "metadata": {},
   "outputs": [
    {
     "name": "stdout",
     "output_type": "stream",
     "text": [
      "p_value=2.879145633100441e-36\n",
      "Существует различие между событиями\n"
     ]
    }
   ],
   "source": [
    "test(male, female, 'Total Spend', 'd')"
   ]
  },
  {
   "cell_type": "markdown",
   "metadata": {},
   "source": [
    "## Пункт №3 (Дискретный случай, оценка медианы)"
   ]
  },
  {
   "cell_type": "code",
   "execution_count": 11,
   "metadata": {},
   "outputs": [
    {
     "data": {
      "text/plain": [
       "(13.0, 9.0)"
      ]
     },
     "execution_count": 11,
     "metadata": {},
     "output_type": "execute_result"
    }
   ],
   "source": [
    "male['Items Purchased'].median(), female['Items Purchased'].median()"
   ]
  },
  {
   "cell_type": "code",
   "execution_count": 12,
   "metadata": {},
   "outputs": [
    {
     "name": "stdout",
     "output_type": "stream",
     "text": [
      "p_value=9.687135147271277e-18\n",
      "Существует различие между событиями\n"
     ]
    }
   ],
   "source": [
    "test(male, female, 'Items Purchased', 'm')"
   ]
  },
  {
   "cell_type": "markdown",
   "metadata": {},
   "source": [
    "## Пункт №4 (Дискретный случай, оценка распредления)\n"
   ]
  },
  {
   "cell_type": "code",
   "execution_count": 13,
   "metadata": {},
   "outputs": [
    {
     "name": "stdout",
     "output_type": "stream",
     "text": [
      "p_value=1.357631805149866e-22\n",
      "Существует различие между событиями\n"
     ]
    }
   ],
   "source": [
    "test(male, female, 'Items Purchased', 'd')"
   ]
  },
  {
   "cell_type": "markdown",
   "metadata": {},
   "source": [
    "## Проверка релевантным тестом"
   ]
  },
  {
   "cell_type": "code",
   "execution_count": 14,
   "metadata": {},
   "outputs": [
    {
     "name": "stdout",
     "output_type": "stream",
     "text": [
      "Непрерывный случай, оценка медианы\n",
      "Возьмем альтернативой U-тесту тест Муда\n",
      "p_value=4.4196773130945145e-08\n",
      "Существует различие между событиями\n",
      "\n",
      "Непрерывный случай, оценка распределения\n",
      "Возьмем альтернативой тесту Колмогорова-Смирнова U-test\n",
      "p_value=5.424545127316686e-19\n",
      "Существует различие между событиями\n",
      "\n",
      "Дискретный случай, оценка медианы\n",
      "Возьмем альтернативой U-тесту тест Муда\n",
      "p_value=0.0011048837865400792\n",
      "Существует различие между событиями\n",
      "\n",
      "Дискретный случай, оценка медианы\n",
      "Возьмем альтернативой тесту Колмогорова-Смирнова U-test\n",
      "p_value=9.687135147271277e-18\n",
      "Существует различие между событиями\n",
      "\n"
     ]
    }
   ],
   "source": [
    "a = .05\n",
    "for i in 'cd':\n",
    "    for j in 'md':\n",
    "        if i == 'c' and j == 'm':\n",
    "            print('Непрерывный случай, оценка медианы')\n",
    "            print('Возьмем альтернативой U-тесту тест Муда')\n",
    "            p_value = sts.median_test(male['Total Spend'], female['Total Spend'])[1]\n",
    "        elif i == 'c' and j == 'd':\n",
    "            print('Непрерывный случай, оценка распределения')\n",
    "            print('Возьмем альтернативой тесту Колмогорова-Смирнова U-test')\n",
    "            _, p_value = sts.mannwhitneyu(male['Total Spend'], female['Total Spend'])\n",
    "        elif i =='d' and j == 'm':\n",
    "            print('Дискретный случай, оценка медианы')\n",
    "            print('Возьмем альтернативой U-тесту тест Муда')\n",
    "            p_value = sts.median_test(male['Items Purchased'], female['Items Purchased'])[1]\n",
    "        elif i == 'd' and j == 'd':\n",
    "            print('Дискретный случай, оценка медианы')\n",
    "            print('Возьмем альтернативой тесту Колмогорова-Смирнова U-test')\n",
    "            p_value = sts.mannwhitneyu(male['Items Purchased'], female['Items Purchased'])[1]\n",
    "        else:\n",
    "            print('Wrong input!')\n",
    "\n",
    "        print(f'{p_value=}')\n",
    "        if p_value > a:\n",
    "            print(\"Не существует различия между событиями\")\n",
    "        else:\n",
    "            print(\"Существует различие между событиями\")\n",
    "        print()"
   ]
  },
  {
   "cell_type": "markdown",
   "metadata": {},
   "source": [
    "## Пункт №5(Бутстрап)"
   ]
  },
  {
   "cell_type": "code",
   "execution_count": 15,
   "metadata": {},
   "outputs": [],
   "source": [
    "def bootstrap(male: pd.DataFrame, female: pd.DataFrame, feature: str, md: str, n: int):\n",
    "    n = int(1e4)\n",
    "    count = 0\n",
    "    \n",
    "    for i in range(n):\n",
    "        m = np.random.choice(male[feature], size=len(male), replace=True)\n",
    "        f = np.random.choice(female[feature], size=len(female), replace=True)\n",
    "        \n",
    "        if  md == 'm':\n",
    "            _, p_value = sts.mannwhitneyu(m, f)\n",
    "        elif md == 'd':\n",
    "            _, p_value = sts.ks_2samp(m, f)\n",
    "        else:\n",
    "            print('Wrong input!')\n",
    "            return None\n",
    "        \n",
    "        if p_value < 0.05:\n",
    "            count += 1\n",
    "    \n",
    "    avg = count / n\n",
    "    print(f'Average count of p_values < 0.05: {avg}')"
   ]
  },
  {
   "cell_type": "code",
   "execution_count": 16,
   "metadata": {},
   "outputs": [
    {
     "name": "stdout",
     "output_type": "stream",
     "text": [
      "Average count of p_values < 0.05: 1.0\n",
      "Бутстрап лучше, т.к. неизвестна дисперсия выборок\n"
     ]
    }
   ],
   "source": [
    "bootstrap(male, female, 'Total Spend', 'm', 10000)\n",
    "print('Бутстрап лучше, т.к. неизвестна дисперсия выборок')"
   ]
  },
  {
   "cell_type": "code",
   "execution_count": 17,
   "metadata": {},
   "outputs": [
    {
     "name": "stdout",
     "output_type": "stream",
     "text": [
      "Average count of p_values < 0.05: 1.0\n",
      "Бутстрап лучше, т.к. неизвестна дисперсия выборок\n"
     ]
    }
   ],
   "source": [
    "bootstrap(male, female, 'Total Spend', 'd', 10000)\n",
    "print('Бутстрап лучше, т.к. неизвестна дисперсия выборок')"
   ]
  },
  {
   "cell_type": "code",
   "execution_count": 18,
   "metadata": {},
   "outputs": [
    {
     "name": "stdout",
     "output_type": "stream",
     "text": [
      "Average count of p_values < 0.05: 1.0\n",
      "Отсутсвие преимуществ среди методов\n"
     ]
    }
   ],
   "source": [
    "bootstrap(male, female, 'Items Purchased', 'm', 10000)\n",
    "print('Отсутсвие преимуществ среди методов')"
   ]
  },
  {
   "cell_type": "code",
   "execution_count": 19,
   "metadata": {},
   "outputs": [
    {
     "name": "stdout",
     "output_type": "stream",
     "text": [
      "Average count of p_values < 0.05: 1.0\n",
      "Отсутсвие преимуществ среди методов\n"
     ]
    }
   ],
   "source": [
    "bootstrap(male, female, 'Items Purchased', 'd', 10000)\n",
    "print('Отсутсвие преимуществ среди методов')"
   ]
  }
 ],
 "metadata": {
  "kernelspec": {
   "display_name": "venv",
   "language": "python",
   "name": "python3"
  },
  "language_info": {
   "codemirror_mode": {
    "name": "ipython",
    "version": 3
   },
   "file_extension": ".py",
   "mimetype": "text/x-python",
   "name": "python",
   "nbconvert_exporter": "python",
   "pygments_lexer": "ipython3",
   "version": "3.10.11"
  }
 },
 "nbformat": 4,
 "nbformat_minor": 2
}
