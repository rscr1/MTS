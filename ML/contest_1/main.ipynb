{
 "cells": [
  {
   "cell_type": "code",
   "execution_count": 1,
   "metadata": {},
   "outputs": [],
   "source": [
    "import pandas as pd\n",
    "import numpy as np\n",
    "from sklearn.model_selection import train_test_split"
   ]
  },
  {
   "cell_type": "code",
   "execution_count": 2,
   "metadata": {},
   "outputs": [],
   "source": [
    "def detach_split_save(train_data, test_data, cols_dict, seed=42):\n",
    "    y_train = train_data['binary_target']\n",
    "    X_train = train_data.drop(['binary_target'], axis=1)\n",
    "\n",
    "    X_train, X_val, y_train, y_val = train_test_split(X_train, y_train, test_size=0.2, shuffle=True, stratify=y_train, random_state=seed)\n",
    "\n",
    "    if len(cols_dict['num_cols']) != 0:\n",
    "        X_num_train = X_train[cols_dict['num_cols']].astype(np.float32)\n",
    "        X_num_val = X_val[cols_dict['num_cols']].astype(np.float32)\n",
    "        X_num_test = test_data[cols_dict['num_cols']].astype(np.float32)\n",
    "\n",
    "        np.save('/root/storage/3030/AkhmetzyanovD/projects/mts_contest/tabular-dl-tabr/data/MTS/X_num_train.npy', X_num_train)\n",
    "        np.save('/root/storage/3030/AkhmetzyanovD/projects/mts_contest/tabular-dl-tabr/data/MTS/X_num_val.npy', X_num_val)\n",
    "        np.save('/root/storage/3030/AkhmetzyanovD/projects/mts_contest/tabular-dl-tabr/data/MTS/X_num_test.npy', X_num_test)\n",
    "\n",
    "    if len(cols_dict['bin_cols']) != 0:\n",
    "        X_bin_train = X_train[cols_dict['bin_cols']].astype(np.float32)\n",
    "        X_bin_val = X_val[cols_dict['bin_cols']].astype(np.float32)\n",
    "        X_bin_test = test_data[cols_dict['bin_cols']].astype(np.float32)\n",
    "\n",
    "        np.save('/root/storage/3030/AkhmetzyanovD/projects/mts_contest/tabular-dl-tabr/data/MTS/X_bin_train.npy', X_bin_train)\n",
    "        np.save('/root/storage/3030/AkhmetzyanovD/projects/mts_contest/tabular-dl-tabr/data/MTS/X_bin_val.npy', X_bin_val)\n",
    "        np.save('/root/storage/3030/AkhmetzyanovD/projects/mts_contest/tabular-dl-tabr/data/MTS/X_bin_test.npy', X_bin_test)\n",
    "\n",
    "    if len(cols_dict['cat_cols']) != 0:\n",
    "        X_cat_train = X_train[cols_dict['cat_cols']].astype(np.str_)\n",
    "        X_cat_val = X_val[cols_dict['cat_cols']].astype(np.str_)\n",
    "        X_cat_test = test_data[cols_dict['cat_cols']].astype(np.str_)\n",
    "\n",
    "        np.save('/root/storage/3030/AkhmetzyanovD/projects/mts_contest/tabular-dl-tabr/data/MTS/X_cat_train.npy', X_cat_train)\n",
    "        np.save('/root/storage/3030/AkhmetzyanovD/projects/mts_contest/tabular-dl-tabr/data/MTS/X_cat_val.npy', X_cat_val)\n",
    "        np.save('/root/storage/3030/AkhmetzyanovD/projects/mts_contest/tabular-dl-tabr/data/MTS/X_cat_test.npy', X_cat_test)\n",
    "\n",
    "    y_train = y_train.astype(np.int64)\n",
    "    y_val = y_val.astype(np.int64)\n",
    "    y_test = np.empty(0)\n",
    "    \n",
    "    np.save('/root/storage/3030/AkhmetzyanovD/projects/mts_contest/tabular-dl-tabr/data/MTS/Y_train.npy', y_train)\n",
    "    np.save('/root/storage/3030/AkhmetzyanovD/projects/mts_contest/tabular-dl-tabr/data/MTS/Y_val.npy', y_val)\n",
    "    np.save('/root/storage/3030/AkhmetzyanovD/projects/mts_contest/tabular-dl-tabr/data/MTS/Y_test.npy', y_test)"
   ]
  },
  {
   "cell_type": "code",
   "execution_count": 3,
   "metadata": {},
   "outputs": [],
   "source": [
    "def print_info(data):\n",
    "    print(data.info())\n",
    "    print(data.isna().sum(axis=0))"
   ]
  },
  {
   "cell_type": "code",
   "execution_count": 4,
   "metadata": {},
   "outputs": [],
   "source": [
    "def delete_cols_dict(cols_dict, drop_cols):\n",
    "    for drop_col in drop_cols:\n",
    "        for cols_key, cols_list in cols_dict.items():\n",
    "            new_cols_list = []\n",
    "            for col in cols_list:\n",
    "                    if drop_col not in col:\n",
    "                        new_cols_list.append(col)\n",
    "            cols_dict[cols_key] = new_cols_list\n",
    "\n",
    "    return cols_dict"
   ]
  },
  {
   "cell_type": "code",
   "execution_count": 5,
   "metadata": {},
   "outputs": [],
   "source": [
    "def iou_none(data, cols):\n",
    "    for i in range(len(cols)):\n",
    "        for j in range(i + 1, len(cols)):\n",
    "            nan_1 = data[cols[i]].isna()\n",
    "            nan_2 = data[cols[j]].isna()\n",
    "            top = (nan_1 & nan_2).sum()\n",
    "            bottom = (nan_1 | nan_2).sum()\n",
    "            if bottom == 0:\n",
    "                iou = 1\n",
    "            else:\n",
    "                iou = top / bottom\n",
    "            print(cols[i], 'vs', cols[j], iou)\n",
    "\n"
   ]
  },
  {
   "cell_type": "code",
   "execution_count": 6,
   "metadata": {},
   "outputs": [],
   "source": [
    "train_data_path = r'/root/storage/3030/AkhmetzyanovD/projects/mts_contest/data/train.csv'\n",
    "test_data_path = r'/root/storage/3030/AkhmetzyanovD/projects/mts_contest/data/test.csv'"
   ]
  },
  {
   "cell_type": "code",
   "execution_count": 7,
   "metadata": {},
   "outputs": [],
   "source": [
    "train_data = pd.read_csv(train_data_path, index_col='client_id')\n",
    "test_data = pd.read_csv(test_data_path, index_col='client_id')"
   ]
  },
  {
   "cell_type": "code",
   "execution_count": 8,
   "metadata": {},
   "outputs": [],
   "source": [
    "cols_dict = {\n",
    "    'num_cols': [\n",
    "        'сумма', 'частота_пополнения', 'доход', \n",
    "        'сегмент_arpu', 'частота', 'объем_данных', \n",
    "        'on_net', 'продукт_1', 'продукт_2', 'зона_1', \n",
    "        'зона_2', 'секретный_скор', 'pack_freq'\n",
    "        ],\n",
    "    'bin_cols': ['mrg_'],\n",
    "    'cat_cols': ['регион', 'использование', 'pack']\n",
    "}"
   ]
  },
  {
   "cell_type": "code",
   "execution_count": 9,
   "metadata": {},
   "outputs": [
    {
     "name": "stdout",
     "output_type": "stream",
     "text": [
      "<class 'pandas.core.frame.DataFrame'>\n",
      "Index: 1010248 entries, 0 to 1010247\n",
      "Data columns (total 18 columns):\n",
      " #   Column              Non-Null Count    Dtype  \n",
      "---  ------              --------------    -----  \n",
      " 0   регион              612396 non-null   object \n",
      " 1   использование       1010248 non-null  object \n",
      " 2   сумма               655354 non-null   float64\n",
      " 3   частота_пополнения  655354 non-null   float64\n",
      " 4   доход               669787 non-null   float64\n",
      " 5   сегмент_arpu        669787 non-null   float64\n",
      " 6   частота             669787 non-null   float64\n",
      " 7   объем_данных        512886 non-null   float64\n",
      " 8   on_net              641315 non-null   float64\n",
      " 9   продукт_1           590287 non-null   float64\n",
      " 10  продукт_2           405005 non-null   float64\n",
      " 11  зона_1              79807 non-null    float64\n",
      " 12  зона_2              64000 non-null    float64\n",
      " 13  mrg_                1010248 non-null  bool   \n",
      " 14  секретный_скор      1010248 non-null  float64\n",
      " 15  pack                586973 non-null   object \n",
      " 16  pack_freq           586973 non-null   float64\n",
      " 17  binary_target       1010248 non-null  int64  \n",
      "dtypes: bool(1), float64(13), int64(1), object(3)\n",
      "memory usage: 139.7+ MB\n",
      "None\n",
      "регион                397852\n",
      "использование              0\n",
      "сумма                 354894\n",
      "частота_пополнения    354894\n",
      "доход                 340461\n",
      "сегмент_arpu          340461\n",
      "частота               340461\n",
      "объем_данных          497362\n",
      "on_net                368933\n",
      "продукт_1             419961\n",
      "продукт_2             605243\n",
      "зона_1                930441\n",
      "зона_2                946248\n",
      "mrg_                       0\n",
      "секретный_скор             0\n",
      "pack                  423275\n",
      "pack_freq             423275\n",
      "binary_target              0\n",
      "dtype: int64\n"
     ]
    }
   ],
   "source": [
    "print_info(train_data)"
   ]
  },
  {
   "cell_type": "code",
   "execution_count": 10,
   "metadata": {},
   "outputs": [
    {
     "name": "stdout",
     "output_type": "stream",
     "text": [
      "<class 'pandas.core.frame.DataFrame'>\n",
      "Index: 497586 entries, 1010248 to 1507833\n",
      "Data columns (total 17 columns):\n",
      " #   Column              Non-Null Count   Dtype  \n",
      "---  ------              --------------   -----  \n",
      " 0   регион              301347 non-null  object \n",
      " 1   использование       497586 non-null  object \n",
      " 2   сумма               322966 non-null  float64\n",
      " 3   частота_пополнения  322966 non-null  float64\n",
      " 4   доход               329926 non-null  float64\n",
      " 5   сегмент_arpu        329926 non-null  float64\n",
      " 6   частота             329926 non-null  float64\n",
      " 7   объем_данных        253142 non-null  float64\n",
      " 8   on_net              315877 non-null  float64\n",
      " 9   продукт_1           290984 non-null  float64\n",
      " 10  продукт_2           199779 non-null  float64\n",
      " 11  зона_1              39179 non-null   float64\n",
      " 12  зона_2              31505 non-null   float64\n",
      " 13  mrg_                497586 non-null  bool   \n",
      " 14  секретный_скор      497586 non-null  float64\n",
      " 15  pack                289038 non-null  object \n",
      " 16  pack_freq           289038 non-null  float64\n",
      "dtypes: bool(1), float64(13), object(3)\n",
      "memory usage: 65.0+ MB\n",
      "None\n",
      "регион                196239\n",
      "использование              0\n",
      "сумма                 174620\n",
      "частота_пополнения    174620\n",
      "доход                 167660\n",
      "сегмент_arpu          167660\n",
      "частота               167660\n",
      "объем_данных          244444\n",
      "on_net                181709\n",
      "продукт_1             206602\n",
      "продукт_2             297807\n",
      "зона_1                458407\n",
      "зона_2                466081\n",
      "mrg_                       0\n",
      "секретный_скор             0\n",
      "pack                  208548\n",
      "pack_freq             208548\n",
      "dtype: int64\n"
     ]
    }
   ],
   "source": [
    "print_info(test_data)"
   ]
  },
  {
   "cell_type": "code",
   "execution_count": 11,
   "metadata": {},
   "outputs": [],
   "source": [
    "drop_cols = ['регион', 'использование', 'зона_1', 'зона_2', 'mrg_', 'pack']\n",
    "train_data.drop(drop_cols, axis=1, inplace=True)\n",
    "test_data.drop(drop_cols, axis=1, inplace=True)\n",
    "cols_dict = delete_cols_dict(cols_dict, drop_cols)"
   ]
  },
  {
   "cell_type": "code",
   "execution_count": 12,
   "metadata": {},
   "outputs": [
    {
     "name": "stdout",
     "output_type": "stream",
     "text": [
      "<class 'pandas.core.frame.DataFrame'>\n",
      "Index: 1010248 entries, 0 to 1010247\n",
      "Data columns (total 12 columns):\n",
      " #   Column              Non-Null Count    Dtype  \n",
      "---  ------              --------------    -----  \n",
      " 0   сумма               655354 non-null   float64\n",
      " 1   частота_пополнения  655354 non-null   float64\n",
      " 2   доход               669787 non-null   float64\n",
      " 3   сегмент_arpu        669787 non-null   float64\n",
      " 4   частота             669787 non-null   float64\n",
      " 5   объем_данных        512886 non-null   float64\n",
      " 6   on_net              641315 non-null   float64\n",
      " 7   продукт_1           590287 non-null   float64\n",
      " 8   продукт_2           405005 non-null   float64\n",
      " 9   секретный_скор      1010248 non-null  float64\n",
      " 10  pack_freq           586973 non-null   float64\n",
      " 11  binary_target       1010248 non-null  int64  \n",
      "dtypes: float64(11), int64(1)\n",
      "memory usage: 100.2 MB\n",
      "None\n",
      "сумма                 354894\n",
      "частота_пополнения    354894\n",
      "доход                 340461\n",
      "сегмент_arpu          340461\n",
      "частота               340461\n",
      "объем_данных          497362\n",
      "on_net                368933\n",
      "продукт_1             419961\n",
      "продукт_2             605243\n",
      "секретный_скор             0\n",
      "pack_freq             423275\n",
      "binary_target              0\n",
      "dtype: int64\n"
     ]
    }
   ],
   "source": [
    "print_info(train_data)"
   ]
  },
  {
   "cell_type": "code",
   "execution_count": 13,
   "metadata": {},
   "outputs": [
    {
     "name": "stdout",
     "output_type": "stream",
     "text": [
      "<class 'pandas.core.frame.DataFrame'>\n",
      "Index: 497586 entries, 1010248 to 1507833\n",
      "Data columns (total 11 columns):\n",
      " #   Column              Non-Null Count   Dtype  \n",
      "---  ------              --------------   -----  \n",
      " 0   сумма               322966 non-null  float64\n",
      " 1   частота_пополнения  322966 non-null  float64\n",
      " 2   доход               329926 non-null  float64\n",
      " 3   сегмент_arpu        329926 non-null  float64\n",
      " 4   частота             329926 non-null  float64\n",
      " 5   объем_данных        253142 non-null  float64\n",
      " 6   on_net              315877 non-null  float64\n",
      " 7   продукт_1           290984 non-null  float64\n",
      " 8   продукт_2           199779 non-null  float64\n",
      " 9   секретный_скор      497586 non-null  float64\n",
      " 10  pack_freq           289038 non-null  float64\n",
      "dtypes: float64(11)\n",
      "memory usage: 45.6 MB\n",
      "None\n",
      "сумма                 174620\n",
      "частота_пополнения    174620\n",
      "доход                 167660\n",
      "сегмент_arpu          167660\n",
      "частота               167660\n",
      "объем_данных          244444\n",
      "on_net                181709\n",
      "продукт_1             206602\n",
      "продукт_2             297807\n",
      "секретный_скор             0\n",
      "pack_freq             208548\n",
      "dtype: int64\n"
     ]
    }
   ],
   "source": [
    "print_info(test_data)"
   ]
  },
  {
   "cell_type": "code",
   "execution_count": 14,
   "metadata": {},
   "outputs": [
    {
     "name": "stdout",
     "output_type": "stream",
     "text": [
      "сумма vs частота_пополнения 1.0\n",
      "сумма vs доход 0.9036218791064389\n",
      "сумма vs сегмент_arpu 0.9036218791064389\n",
      "сумма vs частота 0.9036218791064389\n",
      "сумма vs объем_данных 0.4901430072613908\n",
      "сумма vs on_net 0.683976530365352\n",
      "сумма vs продукт_1 0.7796516742191609\n",
      "сумма vs продукт_2 0.569564279198721\n",
      "сумма vs pack_freq 0.8236312846543586\n",
      "частота_пополнения vs доход 0.9036218791064389\n",
      "частота_пополнения vs сегмент_arpu 0.9036218791064389\n",
      "частота_пополнения vs частота 0.9036218791064389\n",
      "частота_пополнения vs объем_данных 0.4901430072613908\n",
      "частота_пополнения vs on_net 0.683976530365352\n",
      "частота_пополнения vs продукт_1 0.7796516742191609\n",
      "частота_пополнения vs продукт_2 0.569564279198721\n",
      "частота_пополнения vs pack_freq 0.8236312846543586\n",
      "доход vs сегмент_arpu 1.0\n",
      "доход vs частота 1.0\n",
      "доход vs объем_данных 0.4787712662403564\n",
      "доход vs on_net 0.6807456565364595\n",
      "доход vs продукт_1 0.7815153219004779\n",
      "доход vs продукт_2 0.5544984433712601\n",
      "доход vs pack_freq 0.8042044936441228\n",
      "сегмент_arpu vs частота 1.0\n",
      "сегмент_arpu vs объем_данных 0.4787712662403564\n",
      "сегмент_arpu vs on_net 0.6807456565364595\n",
      "сегмент_arpu vs продукт_1 0.7815153219004779\n",
      "сегмент_arpu vs продукт_2 0.5544984433712601\n",
      "сегмент_arpu vs pack_freq 0.8042044936441228\n",
      "частота vs объем_данных 0.4787712662403564\n",
      "частота vs on_net 0.6807456565364595\n",
      "частота vs продукт_1 0.7815153219004779\n",
      "частота vs продукт_2 0.5544984433712601\n",
      "частота vs pack_freq 0.8042044936441228\n",
      "объем_данных vs on_net 0.4849532553284126\n",
      "объем_данных vs продукт_1 0.4833261376113113\n",
      "объем_данных vs продукт_2 0.5036308716137434\n",
      "объем_данных vs pack_freq 0.5407660676898978\n",
      "on_net vs продукт_1 0.6771133617354185\n",
      "on_net vs продукт_2 0.5503568041046795\n",
      "on_net vs pack_freq 0.6736871238097653\n",
      "продукт_1 vs продукт_2 0.649240213505957\n",
      "продукт_1 vs pack_freq 0.754190780906099\n",
      "продукт_2 vs pack_freq 0.6266786444634584\n"
     ]
    }
   ],
   "source": [
    "nan_cols = ['сумма', 'частота_пополнения', 'доход', 'сегмент_arpu', 'частота', 'объем_данных', 'on_net', 'продукт_1', 'продукт_2', 'pack_freq']\n",
    "iou_none(train_data, nan_cols)"
   ]
  },
  {
   "cell_type": "code",
   "execution_count": 15,
   "metadata": {},
   "outputs": [
    {
     "name": "stdout",
     "output_type": "stream",
     "text": [
      "сумма vs частота_пополнения 1.0\n",
      "сумма vs доход 0.9034907711729147\n",
      "сумма vs сегмент_arpu 0.9034907711729147\n",
      "сумма vs частота 0.9034907711729147\n",
      "сумма vs объем_данных 0.4914530370813269\n",
      "сумма vs on_net 0.6850176621632486\n",
      "сумма vs продукт_1 0.7808203820227868\n",
      "сумма vs продукт_2 0.5695144882758254\n",
      "сумма vs pack_freq 0.8222319449860658\n",
      "частота_пополнения vs доход 0.9034907711729147\n",
      "частота_пополнения vs сегмент_arpu 0.9034907711729147\n",
      "частота_пополнения vs частота 0.9034907711729147\n",
      "частота_пополнения vs объем_данных 0.4914530370813269\n",
      "частота_пополнения vs on_net 0.6850176621632486\n",
      "частота_пополнения vs продукт_1 0.7808203820227868\n",
      "частота_пополнения vs продукт_2 0.5695144882758254\n",
      "частота_пополнения vs pack_freq 0.8222319449860658\n",
      "доход vs сегмент_arpu 1.0\n",
      "доход vs частота 1.0\n",
      "доход vs объем_данных 0.4808543666992468\n",
      "доход vs on_net 0.6823277314970867\n",
      "доход vs продукт_1 0.7830745556153732\n",
      "доход vs продукт_2 0.5553673165923179\n",
      "доход vs pack_freq 0.8038012312767304\n",
      "сегмент_arpu vs частота 1.0\n",
      "сегмент_arpu vs объем_данных 0.4808543666992468\n",
      "сегмент_arpu vs on_net 0.6823277314970867\n",
      "сегмент_arpu vs продукт_1 0.7830745556153732\n",
      "сегмент_arpu vs продукт_2 0.5553673165923179\n",
      "сегмент_arpu vs pack_freq 0.8038012312767304\n",
      "частота vs объем_данных 0.4808543666992468\n",
      "частота vs on_net 0.6823277314970867\n",
      "частота vs продукт_1 0.7830745556153732\n",
      "частота vs продукт_2 0.5553673165923179\n",
      "частота vs pack_freq 0.8038012312767304\n",
      "объем_данных vs on_net 0.4866614803367161\n",
      "объем_данных vs продукт_1 0.4854141281080191\n",
      "объем_данных vs продукт_2 0.5034630186210033\n",
      "объем_данных vs pack_freq 0.5424417317874594\n",
      "on_net vs продукт_1 0.678935853755556\n",
      "on_net vs продукт_2 0.550682503904873\n",
      "on_net vs pack_freq 0.674786176234556\n",
      "продукт_1 vs продукт_2 0.6491768975494924\n",
      "продукт_1 vs pack_freq 0.7541005771652146\n",
      "продукт_2 vs pack_freq 0.6270263322783285\n"
     ]
    }
   ],
   "source": [
    "iou_none(test_data, nan_cols)"
   ]
  },
  {
   "cell_type": "code",
   "execution_count": 16,
   "metadata": {},
   "outputs": [],
   "source": [
    "nan_sum_train_data = train_data['сумма'].isna()\n",
    "nan_sum_test_data = test_data['сумма'].isna()"
   ]
  },
  {
   "cell_type": "code",
   "execution_count": 17,
   "metadata": {},
   "outputs": [],
   "source": [
    "train_data.loc[nan_sum_train_data, nan_cols] = train_data.loc[nan_sum_train_data, nan_cols].fillna(0)\n",
    "test_data.loc[nan_sum_test_data, nan_cols] = test_data.loc[nan_sum_test_data, nan_cols].fillna(0)"
   ]
  },
  {
   "cell_type": "code",
   "execution_count": 18,
   "metadata": {},
   "outputs": [
    {
     "name": "stdout",
     "output_type": "stream",
     "text": [
      "<class 'pandas.core.frame.DataFrame'>\n",
      "Index: 1010248 entries, 0 to 1010247\n",
      "Data columns (total 12 columns):\n",
      " #   Column              Non-Null Count    Dtype  \n",
      "---  ------              --------------    -----  \n",
      " 0   сумма               1010248 non-null  float64\n",
      " 1   частота_пополнения  1010248 non-null  float64\n",
      " 2   доход               999862 non-null   float64\n",
      " 3   сегмент_arpu        999862 non-null   float64\n",
      " 4   частота             999862 non-null   float64\n",
      " 5   объем_данных        793213 non-null   float64\n",
      " 6   on_net              935310 non-null   float64\n",
      " 7   продукт_1           929745 non-null   float64\n",
      " 8   продукт_2           753420 non-null   float64\n",
      " 9   секретный_скор      1010248 non-null  float64\n",
      " 10  pack_freq           938428 non-null   float64\n",
      " 11  binary_target       1010248 non-null  int64  \n",
      "dtypes: float64(11), int64(1)\n",
      "memory usage: 100.2 MB\n",
      "None\n",
      "сумма                      0\n",
      "частота_пополнения         0\n",
      "доход                  10386\n",
      "сегмент_arpu           10386\n",
      "частота                10386\n",
      "объем_данных          217035\n",
      "on_net                 74938\n",
      "продукт_1              80503\n",
      "продукт_2             256828\n",
      "секретный_скор             0\n",
      "pack_freq              71820\n",
      "binary_target              0\n",
      "dtype: int64\n"
     ]
    }
   ],
   "source": [
    "print_info(train_data)"
   ]
  },
  {
   "cell_type": "code",
   "execution_count": 19,
   "metadata": {},
   "outputs": [
    {
     "name": "stdout",
     "output_type": "stream",
     "text": [
      "сумма vs частота_пополнения 1\n",
      "сумма vs доход 0.0\n",
      "сумма vs сегмент_arpu 0.0\n",
      "сумма vs частота 0.0\n",
      "сумма vs объем_данных 0.0\n",
      "сумма vs on_net 0.0\n",
      "сумма vs продукт_1 0.0\n",
      "сумма vs продукт_2 0.0\n",
      "сумма vs pack_freq 0.0\n",
      "частота_пополнения vs доход 0.0\n",
      "частота_пополнения vs сегмент_arpu 0.0\n",
      "частота_пополнения vs частота 0.0\n",
      "частота_пополнения vs объем_данных 0.0\n",
      "частота_пополнения vs on_net 0.0\n",
      "частота_пополнения vs продукт_1 0.0\n",
      "частота_пополнения vs продукт_2 0.0\n",
      "частота_пополнения vs pack_freq 0.0\n",
      "доход vs сегмент_arpu 1.0\n",
      "доход vs частота 1.0\n",
      "доход vs объем_данных 0.04138123672063888\n",
      "доход vs on_net 0.11825533086067024\n",
      "доход vs продукт_1 0.11750602468892933\n",
      "доход vs продукт_2 0.03908820121168757\n",
      "доход vs pack_freq 0.14457965525883434\n",
      "сегмент_arpu vs частота 1.0\n",
      "сегмент_arpu vs объем_данных 0.04138123672063888\n",
      "сегмент_arpu vs on_net 0.11825533086067024\n",
      "сегмент_arpu vs продукт_1 0.11750602468892933\n",
      "сегмент_arpu vs продукт_2 0.03908820121168757\n",
      "сегмент_arpu vs pack_freq 0.14457965525883434\n",
      "частота vs объем_данных 0.04138123672063888\n",
      "частота vs on_net 0.11825533086067024\n",
      "частота vs продукт_1 0.11750602468892933\n",
      "частота vs продукт_2 0.03908820121168757\n",
      "частота vs pack_freq 0.14457965525883434\n",
      "объем_данных vs on_net 0.1074013107989198\n",
      "объем_данных vs продукт_1 0.10302616896573456\n",
      "объем_данных vs продукт_2 0.24260645188359128\n",
      "объем_данных vs pack_freq 0.181575351991688\n",
      "on_net vs продукт_1 0.24525142797631921\n",
      "on_net vs продукт_2 0.19335565858904863\n",
      "on_net vs pack_freq 0.21621308051844731\n",
      "продукт_1 vs продукт_2 0.240935711237658\n",
      "продукт_1 vs pack_freq 0.1905722168812187\n",
      "продукт_2 vs pack_freq 0.18064117486456582\n"
     ]
    }
   ],
   "source": [
    "iou_none(train_data, nan_cols)"
   ]
  },
  {
   "cell_type": "code",
   "execution_count": 20,
   "metadata": {},
   "outputs": [
    {
     "name": "stdout",
     "output_type": "stream",
     "text": [
      "сумма vs частота_пополнения 1\n",
      "сумма vs доход 0.0\n",
      "сумма vs сегмент_arpu 0.0\n",
      "сумма vs частота 0.0\n",
      "сумма vs объем_данных 0.0\n",
      "сумма vs on_net 0.0\n",
      "сумма vs продукт_1 0.0\n",
      "сумма vs продукт_2 0.0\n",
      "сумма vs pack_freq 0.0\n",
      "частота_пополнения vs доход 0.0\n",
      "частота_пополнения vs сегмент_arpu 0.0\n",
      "частота_пополнения vs частота 0.0\n",
      "частота_пополнения vs объем_данных 0.0\n",
      "частота_пополнения vs on_net 0.0\n",
      "частота_пополнения vs продукт_1 0.0\n",
      "частота_пополнения vs продукт_2 0.0\n",
      "частота_пополнения vs pack_freq 0.0\n",
      "доход vs сегмент_arpu 1.0\n",
      "доход vs частота 1.0\n",
      "доход vs объем_данных 0.04275565526266592\n",
      "доход vs on_net 0.12068873607335145\n",
      "доход vs продукт_1 0.1205702238731051\n",
      "доход vs продукт_2 0.04001043338049432\n",
      "доход vs pack_freq 0.14576204633421214\n",
      "сегмент_arpu vs частота 1.0\n",
      "сегмент_arpu vs объем_данных 0.04275565526266592\n",
      "сегмент_arpu vs on_net 0.12068873607335145\n",
      "сегмент_arpu vs продукт_1 0.1205702238731051\n",
      "сегмент_arpu vs продукт_2 0.04001043338049432\n",
      "сегмент_arpu vs pack_freq 0.14576204633421214\n",
      "частота vs объем_данных 0.04275565526266592\n",
      "частота vs on_net 0.12068873607335145\n",
      "частота vs продукт_1 0.1205702238731051\n",
      "частота vs продукт_2 0.04001043338049432\n",
      "частота vs pack_freq 0.14576204633421214\n",
      "объем_данных vs on_net 0.1078396484767843\n",
      "объем_данных vs продукт_1 0.10318529166981917\n",
      "объем_данных vs продукт_2 0.24104300530567627\n",
      "объем_данных vs pack_freq 0.1837998699588203\n",
      "on_net vs продукт_1 0.2463858078638287\n",
      "on_net vs продукт_2 0.19286027477345805\n",
      "on_net vs pack_freq 0.2185582950973966\n",
      "продукт_1 vs продукт_2 0.2401696106732078\n",
      "продукт_1 vs pack_freq 0.19027242904007988\n",
      "продукт_2 vs pack_freq 0.18189045871961138\n"
     ]
    }
   ],
   "source": [
    "iou_none(test_data, nan_cols)"
   ]
  },
  {
   "cell_type": "code",
   "execution_count": 21,
   "metadata": {},
   "outputs": [],
   "source": [
    "train_data['use_products'] = train_data['продукт_1'].fillna(0) + train_data['продукт_2'].fillna(0)\n",
    "test_data['use_products'] = test_data['продукт_1'].fillna(0) + test_data['продукт_2'].fillna(0)\n",
    "drop_cols = ['продукт_1', 'продукт_2']\n",
    "train_data.drop(drop_cols, axis=1, inplace=True)\n",
    "test_data.drop(drop_cols, axis=1, inplace=True)\n",
    "cols_dict = delete_cols_dict(cols_dict, drop_cols)\n",
    "cols_dict['num_cols'].append('use_products')"
   ]
  },
  {
   "cell_type": "code",
   "execution_count": 22,
   "metadata": {},
   "outputs": [
    {
     "name": "stdout",
     "output_type": "stream",
     "text": [
      "<class 'pandas.core.frame.DataFrame'>\n",
      "Index: 1010248 entries, 0 to 1010247\n",
      "Data columns (total 11 columns):\n",
      " #   Column              Non-Null Count    Dtype  \n",
      "---  ------              --------------    -----  \n",
      " 0   сумма               1010248 non-null  float64\n",
      " 1   частота_пополнения  1010248 non-null  float64\n",
      " 2   доход               999862 non-null   float64\n",
      " 3   сегмент_arpu        999862 non-null   float64\n",
      " 4   частота             999862 non-null   float64\n",
      " 5   объем_данных        793213 non-null   float64\n",
      " 6   on_net              935310 non-null   float64\n",
      " 7   секретный_скор      1010248 non-null  float64\n",
      " 8   pack_freq           938428 non-null   float64\n",
      " 9   binary_target       1010248 non-null  int64  \n",
      " 10  use_products        1010248 non-null  float64\n",
      "dtypes: float64(10), int64(1)\n",
      "memory usage: 92.5 MB\n",
      "None\n",
      "сумма                      0\n",
      "частота_пополнения         0\n",
      "доход                  10386\n",
      "сегмент_arpu           10386\n",
      "частота                10386\n",
      "объем_данных          217035\n",
      "on_net                 74938\n",
      "секретный_скор             0\n",
      "pack_freq              71820\n",
      "binary_target              0\n",
      "use_products               0\n",
      "dtype: int64\n"
     ]
    }
   ],
   "source": [
    "print_info(train_data)"
   ]
  },
  {
   "cell_type": "code",
   "execution_count": 24,
   "metadata": {},
   "outputs": [
    {
     "name": "stdout",
     "output_type": "stream",
     "text": [
      "доход vs сегмент_arpu 1.0\n",
      "доход vs частота 1.0\n",
      "доход vs объем_данных 0.04138123672063888\n",
      "доход vs on_net 0.11825533086067024\n",
      "доход vs pack_freq 0.14457965525883434\n",
      "сегмент_arpu vs частота 1.0\n",
      "сегмент_arpu vs объем_данных 0.04138123672063888\n",
      "сегмент_arpu vs on_net 0.11825533086067024\n",
      "сегмент_arpu vs pack_freq 0.14457965525883434\n",
      "частота vs объем_данных 0.04138123672063888\n",
      "частота vs on_net 0.11825533086067024\n",
      "частота vs pack_freq 0.14457965525883434\n",
      "объем_данных vs on_net 0.1074013107989198\n",
      "объем_данных vs pack_freq 0.181575351991688\n",
      "on_net vs pack_freq 0.21621308051844731\n"
     ]
    }
   ],
   "source": [
    "nan_cols = ['доход', 'сегмент_arpu', 'частота', 'объем_данных', 'on_net', 'pack_freq']\n",
    "iou_none(train_data, nan_cols)"
   ]
  },
  {
   "cell_type": "code",
   "execution_count": 27,
   "metadata": {},
   "outputs": [],
   "source": [
    "train_data_profit_mean = train_data['доход'].mean()\n",
    "test_data_profit_mean = test_data['доход'].mean()\n",
    "\n",
    "train_data['доход'] = train_data['доход'].fillna(train_data_profit_mean)\n",
    "test_data['доход'] = test_data['доход'].fillna(test_data_profit_mean)\n",
    "\n",
    "train_data_seg_mean = train_data['сегмент_arpu'].mean()\n",
    "test_data_seg_mean = test_data['сегмент_arpu'].mean()\n",
    "\n",
    "train_data['сегмент_arpu'] = train_data['сегмент_arpu'].fillna(train_data_seg_mean)\n",
    "test_data['сегмент_arpu'] = test_data['сегмент_arpu'].fillna(test_data_seg_mean)\n",
    "\n",
    "train_data_freq_mean = train_data['частота'].mean()\n",
    "test_data_freq_mean = test_data['частота'].mean()\n",
    "\n",
    "train_data['частота'] = train_data['частота'].fillna(train_data_freq_mean)\n",
    "test_data['частота'] = test_data['частота'].fillna(test_data_freq_mean)\n"
   ]
  },
  {
   "cell_type": "code",
   "execution_count": 32,
   "metadata": {},
   "outputs": [
    {
     "name": "stdout",
     "output_type": "stream",
     "text": [
      "<class 'pandas.core.frame.DataFrame'>\n",
      "Index: 1010248 entries, 0 to 1010247\n",
      "Data columns (total 11 columns):\n",
      " #   Column              Non-Null Count    Dtype  \n",
      "---  ------              --------------    -----  \n",
      " 0   сумма               1010248 non-null  float64\n",
      " 1   частота_пополнения  1010248 non-null  float64\n",
      " 2   доход               1010248 non-null  float64\n",
      " 3   сегмент_arpu        1010248 non-null  float64\n",
      " 4   частота             1010248 non-null  float64\n",
      " 5   объем_данных        1010248 non-null  float64\n",
      " 6   on_net              935310 non-null   float64\n",
      " 7   секретный_скор      1010248 non-null  float64\n",
      " 8   pack_freq           938428 non-null   float64\n",
      " 9   binary_target       1010248 non-null  int64  \n",
      " 10  use_products        1010248 non-null  float64\n",
      "dtypes: float64(10), int64(1)\n",
      "memory usage: 92.5 MB\n",
      "None\n",
      "сумма                     0\n",
      "частота_пополнения        0\n",
      "доход                     0\n",
      "сегмент_arpu              0\n",
      "частота                   0\n",
      "объем_данных              0\n",
      "on_net                74938\n",
      "секретный_скор            0\n",
      "pack_freq             71820\n",
      "binary_target             0\n",
      "use_products              0\n",
      "dtype: int64\n"
     ]
    }
   ],
   "source": [
    "print_info(train_data)"
   ]
  },
  {
   "cell_type": "code",
   "execution_count": 31,
   "metadata": {},
   "outputs": [
    {
     "name": "stdout",
     "output_type": "stream",
     "text": [
      "<class 'pandas.core.frame.DataFrame'>\n",
      "Index: 497586 entries, 1010248 to 1507833\n",
      "Data columns (total 10 columns):\n",
      " #   Column              Non-Null Count   Dtype  \n",
      "---  ------              --------------   -----  \n",
      " 0   сумма               497586 non-null  float64\n",
      " 1   частота_пополнения  497586 non-null  float64\n",
      " 2   доход               497586 non-null  float64\n",
      " 3   сегмент_arpu        497586 non-null  float64\n",
      " 4   частота             497586 non-null  float64\n",
      " 5   объем_данных        497586 non-null  float64\n",
      " 6   on_net              460737 non-null  float64\n",
      " 7   секретный_скор      497586 non-null  float64\n",
      " 8   pack_freq           461932 non-null  float64\n",
      " 9   use_products        497586 non-null  float64\n",
      "dtypes: float64(10)\n",
      "memory usage: 41.8 MB\n",
      "None\n",
      "сумма                     0\n",
      "частота_пополнения        0\n",
      "доход                     0\n",
      "сегмент_arpu              0\n",
      "частота                   0\n",
      "объем_данных              0\n",
      "on_net                36849\n",
      "секретный_скор            0\n",
      "pack_freq             35654\n",
      "use_products              0\n",
      "dtype: int64\n"
     ]
    }
   ],
   "source": [
    "print_info(test_data)"
   ]
  },
  {
   "cell_type": "code",
   "execution_count": 29,
   "metadata": {},
   "outputs": [
    {
     "name": "stdout",
     "output_type": "stream",
     "text": [
      "объем_данных vs on_net 0.1074013107989198\n",
      "объем_данных vs pack_freq 0.181575351991688\n",
      "on_net vs pack_freq 0.21621308051844731\n"
     ]
    }
   ],
   "source": [
    "nan_cols = ['объем_данных', 'on_net', 'pack_freq']\n",
    "iou_none(train_data, nan_cols)"
   ]
  },
  {
   "cell_type": "code",
   "execution_count": 33,
   "metadata": {},
   "outputs": [],
   "source": [
    "train_data['объем_данных'] = train_data['объем_данных'].fillna(0)\n",
    "test_data['объем_данных'] = test_data['объем_данных'].fillna(0)\n",
    "\n",
    "train_data['on_net'] = train_data['on_net'].fillna(0)\n",
    "test_data['on_net'] = test_data['on_net'].fillna(0)\n",
    "\n",
    "train_data['pack_freq'] = train_data['pack_freq'].fillna(0)\n",
    "test_data['pack_freq'] = test_data['pack_freq'].fillna(0)"
   ]
  },
  {
   "cell_type": "code",
   "execution_count": 34,
   "metadata": {},
   "outputs": [
    {
     "name": "stdout",
     "output_type": "stream",
     "text": [
      "<class 'pandas.core.frame.DataFrame'>\n",
      "Index: 1010248 entries, 0 to 1010247\n",
      "Data columns (total 11 columns):\n",
      " #   Column              Non-Null Count    Dtype  \n",
      "---  ------              --------------    -----  \n",
      " 0   сумма               1010248 non-null  float64\n",
      " 1   частота_пополнения  1010248 non-null  float64\n",
      " 2   доход               1010248 non-null  float64\n",
      " 3   сегмент_arpu        1010248 non-null  float64\n",
      " 4   частота             1010248 non-null  float64\n",
      " 5   объем_данных        1010248 non-null  float64\n",
      " 6   on_net              1010248 non-null  float64\n",
      " 7   секретный_скор      1010248 non-null  float64\n",
      " 8   pack_freq           1010248 non-null  float64\n",
      " 9   binary_target       1010248 non-null  int64  \n",
      " 10  use_products        1010248 non-null  float64\n",
      "dtypes: float64(10), int64(1)\n",
      "memory usage: 92.5 MB\n",
      "None\n",
      "сумма                 0\n",
      "частота_пополнения    0\n",
      "доход                 0\n",
      "сегмент_arpu          0\n",
      "частота               0\n",
      "объем_данных          0\n",
      "on_net                0\n",
      "секретный_скор        0\n",
      "pack_freq             0\n",
      "binary_target         0\n",
      "use_products          0\n",
      "dtype: int64\n"
     ]
    }
   ],
   "source": [
    "print_info(train_data)"
   ]
  },
  {
   "cell_type": "code",
   "execution_count": 35,
   "metadata": {},
   "outputs": [
    {
     "name": "stdout",
     "output_type": "stream",
     "text": [
      "<class 'pandas.core.frame.DataFrame'>\n",
      "Index: 497586 entries, 1010248 to 1507833\n",
      "Data columns (total 10 columns):\n",
      " #   Column              Non-Null Count   Dtype  \n",
      "---  ------              --------------   -----  \n",
      " 0   сумма               497586 non-null  float64\n",
      " 1   частота_пополнения  497586 non-null  float64\n",
      " 2   доход               497586 non-null  float64\n",
      " 3   сегмент_arpu        497586 non-null  float64\n",
      " 4   частота             497586 non-null  float64\n",
      " 5   объем_данных        497586 non-null  float64\n",
      " 6   on_net              497586 non-null  float64\n",
      " 7   секретный_скор      497586 non-null  float64\n",
      " 8   pack_freq           497586 non-null  float64\n",
      " 9   use_products        497586 non-null  float64\n",
      "dtypes: float64(10)\n",
      "memory usage: 41.8 MB\n",
      "None\n",
      "сумма                 0\n",
      "частота_пополнения    0\n",
      "доход                 0\n",
      "сегмент_arpu          0\n",
      "частота               0\n",
      "объем_данных          0\n",
      "on_net                0\n",
      "секретный_скор        0\n",
      "pack_freq             0\n",
      "use_products          0\n",
      "dtype: int64\n"
     ]
    }
   ],
   "source": [
    "print_info(test_data)"
   ]
  },
  {
   "cell_type": "code",
   "execution_count": 36,
   "metadata": {},
   "outputs": [],
   "source": [
    "detach_split_save(train_data, test_data, cols_dict, 42)"
   ]
  }
 ],
 "metadata": {
  "kernelspec": {
   "display_name": "base",
   "language": "python",
   "name": "python3"
  },
  "language_info": {
   "codemirror_mode": {
    "name": "ipython",
    "version": 3
   },
   "file_extension": ".py",
   "mimetype": "text/x-python",
   "name": "python",
   "nbconvert_exporter": "python",
   "pygments_lexer": "ipython3",
   "version": "3.10.13"
  }
 },
 "nbformat": 4,
 "nbformat_minor": 2
}
