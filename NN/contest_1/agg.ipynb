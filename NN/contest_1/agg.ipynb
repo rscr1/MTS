{
 "cells": [
  {
   "cell_type": "code",
   "execution_count": 1,
   "metadata": {},
   "outputs": [],
   "source": [
    "import pandas as pd\n",
    "\n",
    "pit_sub_path = '/AkhmetzyanovD/projects/MTS/NN/contest_1/results/default46/submission.csv'\n",
    "clip_sub_path = '/AkhmetzyanovD/projects/MTS/NN/contest_1/results/clip_cos/submission.csv'\n",
    "\n",
    "pit_sub = pd.read_csv(pit_sub_path)\n",
    "clip_sub = pd.read_csv(clip_sub_path)"
   ]
  },
  {
   "cell_type": "code",
   "execution_count": 2,
   "metadata": {},
   "outputs": [
    {
     "data": {
      "text/html": [
       "<div>\n",
       "<style scoped>\n",
       "    .dataframe tbody tr th:only-of-type {\n",
       "        vertical-align: middle;\n",
       "    }\n",
       "\n",
       "    .dataframe tbody tr th {\n",
       "        vertical-align: top;\n",
       "    }\n",
       "\n",
       "    .dataframe thead th {\n",
       "        text-align: right;\n",
       "    }\n",
       "</style>\n",
       "<table border=\"1\" class=\"dataframe\">\n",
       "  <thead>\n",
       "    <tr style=\"text-align: right;\">\n",
       "      <th></th>\n",
       "      <th>filename</th>\n",
       "      <th>label</th>\n",
       "    </tr>\n",
       "  </thead>\n",
       "  <tbody>\n",
       "    <tr>\n",
       "      <th>0</th>\n",
       "      <td>c329da38f8f9936f5d73e0391344eb5b4ebed8f6e9032f...</td>\n",
       "      <td>Mewtwo</td>\n",
       "    </tr>\n",
       "    <tr>\n",
       "      <th>1</th>\n",
       "      <td>ac4919b1ff10b17d72c4645458ea3219384ffad641366b...</td>\n",
       "      <td>Kangaskhan</td>\n",
       "    </tr>\n",
       "    <tr>\n",
       "      <th>2</th>\n",
       "      <td>eb277c6ebec8c7d075e518c0963f252d167f22eb6d164d...</td>\n",
       "      <td>Bulbasaur</td>\n",
       "    </tr>\n",
       "    <tr>\n",
       "      <th>3</th>\n",
       "      <td>8cf03fbfc7b279e445006490be962dc414c19972bf7c94...</td>\n",
       "      <td>Poliwhirl</td>\n",
       "    </tr>\n",
       "    <tr>\n",
       "      <th>4</th>\n",
       "      <td>e6bad7f867a11b24754eadd590392cf8fd0c2205569254...</td>\n",
       "      <td>Rattata</td>\n",
       "    </tr>\n",
       "  </tbody>\n",
       "</table>\n",
       "</div>"
      ],
      "text/plain": [
       "                                            filename       label\n",
       "0  c329da38f8f9936f5d73e0391344eb5b4ebed8f6e9032f...      Mewtwo\n",
       "1  ac4919b1ff10b17d72c4645458ea3219384ffad641366b...  Kangaskhan\n",
       "2  eb277c6ebec8c7d075e518c0963f252d167f22eb6d164d...   Bulbasaur\n",
       "3  8cf03fbfc7b279e445006490be962dc414c19972bf7c94...   Poliwhirl\n",
       "4  e6bad7f867a11b24754eadd590392cf8fd0c2205569254...     Rattata"
      ]
     },
     "execution_count": 2,
     "metadata": {},
     "output_type": "execute_result"
    }
   ],
   "source": [
    "pit_sub.head()"
   ]
  },
  {
   "cell_type": "code",
   "execution_count": 3,
   "metadata": {},
   "outputs": [
    {
     "data": {
      "text/html": [
       "<div>\n",
       "<style scoped>\n",
       "    .dataframe tbody tr th:only-of-type {\n",
       "        vertical-align: middle;\n",
       "    }\n",
       "\n",
       "    .dataframe tbody tr th {\n",
       "        vertical-align: top;\n",
       "    }\n",
       "\n",
       "    .dataframe thead th {\n",
       "        text-align: right;\n",
       "    }\n",
       "</style>\n",
       "<table border=\"1\" class=\"dataframe\">\n",
       "  <thead>\n",
       "    <tr style=\"text-align: right;\">\n",
       "      <th></th>\n",
       "      <th>filename</th>\n",
       "      <th>label</th>\n",
       "      <th>cos</th>\n",
       "    </tr>\n",
       "  </thead>\n",
       "  <tbody>\n",
       "    <tr>\n",
       "      <th>0</th>\n",
       "      <td>c329da38f8f9936f5d73e0391344eb5b4ebed8f6e9032f...</td>\n",
       "      <td>Mewtwo</td>\n",
       "      <td>0.975683</td>\n",
       "    </tr>\n",
       "    <tr>\n",
       "      <th>1</th>\n",
       "      <td>ac4919b1ff10b17d72c4645458ea3219384ffad641366b...</td>\n",
       "      <td>Snorlax</td>\n",
       "      <td>0.874535</td>\n",
       "    </tr>\n",
       "    <tr>\n",
       "      <th>2</th>\n",
       "      <td>eb277c6ebec8c7d075e518c0963f252d167f22eb6d164d...</td>\n",
       "      <td>Bulbasaur</td>\n",
       "      <td>0.886067</td>\n",
       "    </tr>\n",
       "    <tr>\n",
       "      <th>3</th>\n",
       "      <td>8cf03fbfc7b279e445006490be962dc414c19972bf7c94...</td>\n",
       "      <td>Poliwhirl</td>\n",
       "      <td>0.798457</td>\n",
       "    </tr>\n",
       "    <tr>\n",
       "      <th>4</th>\n",
       "      <td>e6bad7f867a11b24754eadd590392cf8fd0c2205569254...</td>\n",
       "      <td>Rattata</td>\n",
       "      <td>0.861316</td>\n",
       "    </tr>\n",
       "  </tbody>\n",
       "</table>\n",
       "</div>"
      ],
      "text/plain": [
       "                                            filename      label       cos\n",
       "0  c329da38f8f9936f5d73e0391344eb5b4ebed8f6e9032f...     Mewtwo  0.975683\n",
       "1  ac4919b1ff10b17d72c4645458ea3219384ffad641366b...    Snorlax  0.874535\n",
       "2  eb277c6ebec8c7d075e518c0963f252d167f22eb6d164d...  Bulbasaur  0.886067\n",
       "3  8cf03fbfc7b279e445006490be962dc414c19972bf7c94...  Poliwhirl  0.798457\n",
       "4  e6bad7f867a11b24754eadd590392cf8fd0c2205569254...    Rattata  0.861316"
      ]
     },
     "execution_count": 3,
     "metadata": {},
     "output_type": "execute_result"
    }
   ],
   "source": [
    "clip_sub.head()"
   ]
  },
  {
   "cell_type": "code",
   "execution_count": 4,
   "metadata": {},
   "outputs": [
    {
     "data": {
      "text/plain": [
       "0.7996089931573802"
      ]
     },
     "execution_count": 4,
     "metadata": {},
     "output_type": "execute_result"
    }
   ],
   "source": [
    "sum(pit_sub['label'] == clip_sub['label']) / len(pit_sub['label'])"
   ]
  },
  {
   "cell_type": "code",
   "execution_count": 5,
   "metadata": {},
   "outputs": [
    {
     "data": {
      "text/plain": [
       "0.9615384615384616"
      ]
     },
     "execution_count": 5,
     "metadata": {},
     "output_type": "execute_result"
    }
   ],
   "source": [
    "mask = clip_sub['cos'] > 0.98\n",
    "\n",
    "conf_clip_preds = clip_sub[mask]['label']\n",
    "conf_pit_preds = pit_sub[mask]['label']\n",
    "sum(conf_clip_preds == conf_pit_preds) / len(conf_clip_preds)"
   ]
  },
  {
   "cell_type": "code",
   "execution_count": 6,
   "metadata": {},
   "outputs": [
    {
     "data": {
      "text/plain": [
       "0.7975247524752476"
      ]
     },
     "execution_count": 6,
     "metadata": {},
     "output_type": "execute_result"
    }
   ],
   "source": [
    "unconf_clip_preds = clip_sub[~mask]['label']\n",
    "unconf_pit_preds = pit_sub[~mask]['label']\n",
    "sum(unconf_clip_preds == unconf_pit_preds) / len(unconf_clip_preds)"
   ]
  },
  {
   "cell_type": "code",
   "execution_count": 7,
   "metadata": {},
   "outputs": [],
   "source": [
    "pit_sub[mask] = clip_sub[mask]"
   ]
  },
  {
   "cell_type": "code",
   "execution_count": 8,
   "metadata": {},
   "outputs": [],
   "source": [
    "pit_sub.to_csv('/AkhmetzyanovD/projects/MTS/NN/contest_1/results/model_clip_cos/submission.csv', index=False)"
   ]
  },
  {
   "cell_type": "code",
   "execution_count": null,
   "metadata": {},
   "outputs": [],
   "source": []
  }
 ],
 "metadata": {
  "kernelspec": {
   "display_name": "base",
   "language": "python",
   "name": "python3"
  },
  "language_info": {
   "codemirror_mode": {
    "name": "ipython",
    "version": 3
   },
   "file_extension": ".py",
   "mimetype": "text/x-python",
   "name": "python",
   "nbconvert_exporter": "python",
   "pygments_lexer": "ipython3",
   "version": "3.10.13"
  }
 },
 "nbformat": 4,
 "nbformat_minor": 2
}
